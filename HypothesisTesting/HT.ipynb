{
 "cells": [
  {
   "cell_type": "code",
   "execution_count": 1,
   "metadata": {},
   "outputs": [],
   "source": [
    "import numpy as np\n",
    "import pandas as pd\n",
    "import matplotlib.pyplot as plt\n",
    "%matplotlib inline\n",
    "import seaborn as sns\n",
    "sns.set(style='darkgrid')"
   ]
  },
  {
   "cell_type": "code",
   "execution_count": 2,
   "metadata": {},
   "outputs": [],
   "source": [
    "import numpy as np\n",
    "import pandas as pd\n",
    "import matplotlib.pyplot as plt\n",
    "import seaborn as sns\n",
    "import scipy.stats as stats"
   ]
  },
  {
   "cell_type": "code",
   "execution_count": 3,
   "metadata": {},
   "outputs": [],
   "source": [
    "wine_data = pd.read_csv('winemag-data-130k-v2.csv')"
   ]
  },
  {
   "cell_type": "code",
   "execution_count": 4,
   "metadata": {},
   "outputs": [
    {
     "name": "stdout",
     "output_type": "stream",
     "text": [
      "   Unnamed: 0   country                                        description  \\\n",
      "0           0     Italy  Aromas include tropical fruit, broom, brimston...   \n",
      "1           1  Portugal  This is ripe and fruity, a wine that is smooth...   \n",
      "2           2        US  Tart and snappy, the flavors of lime flesh and...   \n",
      "3           3        US  Pineapple rind, lemon pith and orange blossom ...   \n",
      "4           4        US  Much like the regular bottling from 2012, this...   \n",
      "\n",
      "                          designation  points  price           province  \\\n",
      "0                        Vulkà Bianco      87    NaN  Sicily & Sardinia   \n",
      "1                            Avidagos      87   15.0              Douro   \n",
      "2                                 NaN      87   14.0             Oregon   \n",
      "3                Reserve Late Harvest      87   13.0           Michigan   \n",
      "4  Vintner's Reserve Wild Child Block      87   65.0             Oregon   \n",
      "\n",
      "              region_1           region_2         taster_name  \\\n",
      "0                 Etna                NaN       Kerin O’Keefe   \n",
      "1                  NaN                NaN          Roger Voss   \n",
      "2    Willamette Valley  Willamette Valley        Paul Gregutt   \n",
      "3  Lake Michigan Shore                NaN  Alexander Peartree   \n",
      "4    Willamette Valley  Willamette Valley        Paul Gregutt   \n",
      "\n",
      "  taster_twitter_handle                                              title  \\\n",
      "0          @kerinokeefe                  Nicosia 2013 Vulkà Bianco  (Etna)   \n",
      "1            @vossroger      Quinta dos Avidagos 2011 Avidagos Red (Douro)   \n",
      "2           @paulgwine       Rainstorm 2013 Pinot Gris (Willamette Valley)   \n",
      "3                   NaN  St. Julian 2013 Reserve Late Harvest Riesling ...   \n",
      "4           @paulgwine   Sweet Cheeks 2012 Vintner's Reserve Wild Child...   \n",
      "\n",
      "          variety               winery  \n",
      "0     White Blend              Nicosia  \n",
      "1  Portuguese Red  Quinta dos Avidagos  \n",
      "2      Pinot Gris            Rainstorm  \n",
      "3        Riesling           St. Julian  \n",
      "4      Pinot Noir         Sweet Cheeks  \n",
      "        Unnamed: 0  country  \\\n",
      "129966      129966  Germany   \n",
      "129967      129967       US   \n",
      "129968      129968   France   \n",
      "129969      129969   France   \n",
      "129970      129970   France   \n",
      "\n",
      "                                              description  \\\n",
      "129966  Notes of honeysuckle and cantaloupe sweeten th...   \n",
      "129967  Citation is given as much as a decade of bottl...   \n",
      "129968  Well-drained gravel soil gives this wine its c...   \n",
      "129969  A dry style of Pinot Gris, this is crisp with ...   \n",
      "129970  Big, rich and off-dry, this is powered by inte...   \n",
      "\n",
      "                                   designation  points  price province  \\\n",
      "129966  Brauneberger Juffer-Sonnenuhr Spätlese      90   28.0    Mosel   \n",
      "129967                                     NaN      90   75.0   Oregon   \n",
      "129968                                   Kritt      90   30.0   Alsace   \n",
      "129969                                     NaN      90   32.0   Alsace   \n",
      "129970           Lieu-dit Harth Cuvée Caroline      90   21.0   Alsace   \n",
      "\n",
      "       region_1      region_2         taster_name taster_twitter_handle  \\\n",
      "129966      NaN           NaN  Anna Lee C. Iijima                   NaN   \n",
      "129967   Oregon  Oregon Other        Paul Gregutt           @paulgwine    \n",
      "129968   Alsace           NaN          Roger Voss            @vossroger   \n",
      "129969   Alsace           NaN          Roger Voss            @vossroger   \n",
      "129970   Alsace           NaN          Roger Voss            @vossroger   \n",
      "\n",
      "                                                    title         variety  \\\n",
      "129966  Dr. H. Thanisch (Erben Müller-Burggraef) 2013 ...        Riesling   \n",
      "129967                  Citation 2004 Pinot Noir (Oregon)      Pinot Noir   \n",
      "129968  Domaine Gresser 2013 Kritt Gewurztraminer (Als...  Gewürztraminer   \n",
      "129969      Domaine Marcel Deiss 2012 Pinot Gris (Alsace)      Pinot Gris   \n",
      "129970  Domaine Schoffit 2012 Lieu-dit Harth Cuvée Car...  Gewürztraminer   \n",
      "\n",
      "                                          winery  \n",
      "129966  Dr. H. Thanisch (Erben Müller-Burggraef)  \n",
      "129967                                  Citation  \n",
      "129968                           Domaine Gresser  \n",
      "129969                      Domaine Marcel Deiss  \n",
      "129970                          Domaine Schoffit  \n",
      "<class 'pandas.core.frame.DataFrame'>\n",
      "RangeIndex: 129971 entries, 0 to 129970\n",
      "Data columns (total 14 columns):\n",
      "Unnamed: 0               129971 non-null int64\n",
      "country                  129908 non-null object\n",
      "description              129971 non-null object\n",
      "designation              92506 non-null object\n",
      "points                   129971 non-null int64\n",
      "price                    120975 non-null float64\n",
      "province                 129908 non-null object\n",
      "region_1                 108724 non-null object\n",
      "region_2                 50511 non-null object\n",
      "taster_name              103727 non-null object\n",
      "taster_twitter_handle    98758 non-null object\n",
      "title                    129971 non-null object\n",
      "variety                  129970 non-null object\n",
      "winery                   129971 non-null object\n",
      "dtypes: float64(1), int64(2), object(11)\n",
      "memory usage: 13.9+ MB\n",
      "None\n",
      "          Unnamed: 0         points          price\n",
      "count  129971.000000  129971.000000  120975.000000\n",
      "mean    64985.000000      88.447138      35.363389\n",
      "std     37519.540256       3.039730      41.022218\n",
      "min         0.000000      80.000000       4.000000\n",
      "25%     32492.500000      86.000000      17.000000\n",
      "50%     64985.000000      88.000000      25.000000\n",
      "75%     97477.500000      91.000000      42.000000\n",
      "max    129970.000000     100.000000    3300.000000\n",
      "Unnamed: 0                   0\n",
      "country                     63\n",
      "description                  0\n",
      "designation              37465\n",
      "points                       0\n",
      "price                     8996\n",
      "province                    63\n",
      "region_1                 21247\n",
      "region_2                 79460\n",
      "taster_name              26244\n",
      "taster_twitter_handle    31213\n",
      "title                        0\n",
      "variety                      1\n",
      "winery                       0\n",
      "dtype: int64\n"
     ]
    }
   ],
   "source": [
    "wine_data = pd.read_csv('winemag-data-130k-v2.csv')\n",
    "print(wine_data.head(5))\n",
    "print(wine_data.tail(5))\n",
    "print(wine_data.info())\n",
    "print(wine_data.describe())\n",
    "print(wine_data.isnull().sum())"
   ]
  },
  {
   "cell_type": "code",
   "execution_count": 5,
   "metadata": {},
   "outputs": [
    {
     "name": "stdout",
     "output_type": "stream",
     "text": [
      "Index(['Unnamed: 0', 'country', 'description', 'designation', 'points',\n",
      "       'price', 'province', 'region_1', 'region_2', 'taster_name',\n",
      "       'taster_twitter_handle', 'title', 'variety', 'winery'],\n",
      "      dtype='object')\n"
     ]
    }
   ],
   "source": [
    "print(wine_data.columns)"
   ]
  },
  {
   "cell_type": "code",
   "execution_count": 6,
   "metadata": {},
   "outputs": [
    {
     "name": "stdout",
     "output_type": "stream",
     "text": [
      "mu:  88.44713820775404 , sigma: 3.0397185090150947\n"
     ]
    }
   ],
   "source": [
    "points = wine_data['points']\n",
    "mu = points.mean()\n",
    "sigma = points.std(ddof=0)\n",
    "print(\"mu: \", mu, \", sigma:\", sigma)"
   ]
  },
  {
   "cell_type": "code",
   "execution_count": 8,
   "metadata": {},
   "outputs": [
    {
     "name": "stdout",
     "output_type": "stream",
     "text": [
      "1.8235358539097541\n"
     ]
    }
   ],
   "source": [
    "z_critical = 1.96 # alpha level of 0.05 and two-tailed test\n",
    "x_bar = 90.2\n",
    "N = 10\n",
    "SE = sigma/np.sqrt(N)\n",
    "z_stat = (x_bar - mu)/SE\n",
    "print(z_stat)"
   ]
  },
  {
   "cell_type": "code",
   "execution_count": 9,
   "metadata": {},
   "outputs": [
    {
     "name": "stdout",
     "output_type": "stream",
     "text": [
      "3.158456748395192\n"
     ]
    }
   ],
   "source": [
    "N = 30\n",
    "SE = sigma/np.sqrt(N)\n",
    "z_stat = (x_bar - mu)/SE\n",
    "print(z_stat)"
   ]
  },
  {
   "cell_type": "code",
   "execution_count": 10,
   "metadata": {},
   "outputs": [
    {
     "name": "stdout",
     "output_type": "stream",
     "text": [
      "[ 7.7  6.7  5.6 10.   9.6 12.3 10.  13.1  8.2 10.7  6.4  8.9  9.4  7.7\n",
      "  9.  11.2  9.5  7.4  8.   9.2  9.7  9.2 10.4  7.7  9.7 11.1  8.   8.3\n",
      " 10.6  9.2]\n"
     ]
    }
   ],
   "source": [
    "x = np.random.normal(loc = 9.2, scale = 1.5, size=30).round(1)\n",
    "print(x)"
   ]
  },
  {
   "cell_type": "code",
   "execution_count": 12,
   "metadata": {},
   "outputs": [
    {
     "name": "stdout",
     "output_type": "stream",
     "text": [
      "t-statistic:  -2.2491611580763977\n",
      "t =  -2.2491611580763973 , p =  0.03655562279112415\n"
     ]
    }
   ],
   "source": [
    "x = [8.8, 6.6, 9.5, 11.2, 10.2, 7.4, 8.0, 9.6, 9.9, 9.0,\n",
    "     7.6, 7.4, 10.4, 11.1, 8.5, 10.0, 11.6, 10.7, 10.3, 7.0]\n",
    "mu = 10\n",
    "t_critical = 2.093\n",
    "x_bar = np.array(x).mean()\n",
    "s = np.array(x).std(ddof=1) # subtract 1 from N to get unbiased estimate of sample standard deviation\n",
    "N = len(x)\n",
    "SE = s/np.sqrt(N)\n",
    "t = (x_bar - mu)/SE\n",
    "print(\"t-statistic: \",t)\n",
    "\n",
    "# a one sample t-test that gives you the p-value too can be done with scipy as follows:\n",
    "t, p = stats.ttest_1samp(x, mu)\n",
    "print(\"t = \", t, \", p = \", p)"
   ]
  },
  {
   "cell_type": "code",
   "execution_count": 13,
   "metadata": {},
   "outputs": [
    {
     "name": "stdout",
     "output_type": "stream",
     "text": [
      "CI using scipy:  (8.532759313560822, 9.947240686439175)\n"
     ]
    }
   ],
   "source": [
    "# margin of error\n",
    "\n",
    "err = t_critical*SE\n",
    "x_low = x_bar - err\n",
    "x_high =x_bar + err\n",
    "\n",
    "print(\"CI using scipy: \", stats.t.interval(0.95, N-1, loc=x_bar, scale = SE))"
   ]
  },
  {
   "cell_type": "code",
   "execution_count": 14,
   "metadata": {},
   "outputs": [
    {
     "name": "stdout",
     "output_type": "stream",
     "text": [
      "t-statistic -3.5981947686898033\n",
      "t =  -3.5981947686898033 , p_twosided =  0.0007560337478801464 , p_onesided = 0.0003780168739400732\n"
     ]
    }
   ],
   "source": [
    "# sample up wind\n",
    "x1 = [10.8, 10.0, 8.2, 9.9, 11.6, 10.1, 11.3, 10.3, 10.7, 9.7, \n",
    "      7.8, 9.6, 9.7, 11.6, 10.3, 9.8, 12.3, 11.0, 10.4, 10.4]\n",
    "\n",
    "# sample down wind\n",
    "x2 = [7.8, 7.5, 9.5, 11.7, 8.1, 8.8, 8.8, 7.7, 9.7, 7.0, \n",
    "      9.0, 9.7, 11.3, 8.7, 8.8, 10.9, 10.3, 9.6, 8.4, 6.6,\n",
    "      7.2, 7.6, 11.5, 6.6, 8.6, 10.5, 8.4, 8.5, 10.2, 9.2]\n",
    "\n",
    "# equal sample size and assume equal population variance\n",
    "t_critical = 1.677\n",
    "N1 = len(x1)\n",
    "N2 = len(x2)\n",
    "d1 = N1-1\n",
    "d2 = N2-1\n",
    "df = d1+d2\n",
    "s1 = np.std(x1,ddof=1)\n",
    "s2 = np.std(x2,ddof=1)\n",
    "x1_bar = np.mean(x1)\n",
    "x2_bar = np.mean(x2)\n",
    "\n",
    "sp = np.sqrt((d1*s1**2 + d2*s2**2)/df)\n",
    "se = sp*np.sqrt(1/N1 + 1/N2)\n",
    "t = (x2_bar - x1_bar)/(se)\n",
    "print(\"t-statistic\", t)\n",
    "\n",
    "# a two-sample independent t-test is done with scipy as follows\n",
    "# NOTE: the p-value given is two-sided so the one-sided p value would be p/2\n",
    "t, p_twosided = stats.ttest_ind(x2, x1, equal_var=True)\n",
    "print(\"t = \",t, \", p_twosided = \", p_twosided, \", p_onesided =\", p_twosided/2)"
   ]
  },
  {
   "cell_type": "code",
   "execution_count": 15,
   "metadata": {},
   "outputs": [
    {
     "name": "stdout",
     "output_type": "stream",
     "text": [
      "Confidence Interval:\n",
      "x2_bar - x1_bar =  -1.3350000000000026 , 95% CI  (-2.0809844644533113, -0.589015535546694)\n",
      "Cohen's Effect Size, d:\n",
      "d =  -1.0387093591498806\n",
      "r_squared =  0.21243054465702976\n",
      "r_squared =  0.21243054465702918\n"
     ]
    },
    {
     "data": {
      "image/png": "[encoded data removed]",
      "text/plain": [
       "<Figure size 432x288 with 1 Axes>"
      ]
     },
     "metadata": {
      "needs_background": "light"
     },
     "output_type": "display_data"
    }
   ],
   "source": [
    "print(\"Confidence Interval:\")\n",
    "print(\"x2_bar - x1_bar = \", x2_bar - x1_bar, \", 95% CI \",stats.t.interval(0.95, df, loc=x2_bar-x1_bar, scale=se))\n",
    "print(\"Cohen's Effect Size, d:\")\n",
    "print(\"d = \", (x2_bar - x1_bar)/sp)\n",
    "\n",
    "rsq = t**2 / (t**2 + df)\n",
    "print(\"r_squared = \", rsq) \n",
    "\n",
    "# notice that the r_squared value above is equal to the r_squared value you would get from linear regression\n",
    "x = np.concatenate((np.ones(N1), np.ones(N2)*2))\n",
    "y = np.concatenate((x1,x2))\n",
    "\n",
    "slope, yint, r, p, sterr = stats.linregress(x, y)\n",
    "print(\"r_squared = \",r**2)\n",
    "\n",
    "plt.plot(x,y)\n",
    "plt.show()"
   ]
  },
  {
   "cell_type": "code",
   "execution_count": 16,
   "metadata": {},
   "outputs": [
    {
     "name": "stdout",
     "output_type": "stream",
     "text": [
      "t =  3.9054390813265063\n",
      "t =  3.905439081326491 , p =  0.0002584344912342189\n",
      "d =  0.7130323606015934\n"
     ]
    }
   ],
   "source": [
    "# sample before conversion to nat. gas\n",
    "x1 = np.array([10.8, 6.4, 8.3, 7.6, 11.4, 9.9, 10.6, 8.7, 8.1, 10.9,\n",
    "      11.0, 11.8, 7.3, 9.6, 9.3, 9.9, 9.0, 9.5, 10.6, 10.3,\n",
    "      8.8, 12.3, 8.9, 10.5, 11.6, 7.6, 8.9, 10.4, 10.2, 8.8])\n",
    "# sample after conversion to nat. gas\n",
    "x2 = np.array([10.1, 6.9, 8.6, 8.8, 12.1, 11.3, 12.4, 9.3, 9.3, 10.8,\n",
    "      12.4, 11.5, 7.4, 10.0, 11.1, 10.6, 9.4, 9.5, 10.0, 10.0,\n",
    "      9.7, 13.5, 9.6, 11.6, 11.7, 7.9, 8.6, 10.8, 9.5, 9.6])\n",
    "N = len(x2)\n",
    "xbar_diff = np.mean(x2) - np.mean(x1) # could also do np.mean(x2 - x1))\n",
    "sdiff = np.std(x2-x1,ddof=1)\n",
    "t = xbar_diff / (sdiff/np.sqrt(N))\n",
    "print(\"t = \", t)\n",
    "\n",
    "t, p = stats.ttest_rel(x2, x1) # using scipy\n",
    "print(\"t = \", t, \", p = \", p/2) # divide by two because we are doing a one-tail test\n",
    "\n",
    "d = xbar_diff / sdiff\n",
    "print(\"d = \", d) # chohen's d"
   ]
  },
  {
   "cell_type": "code",
   "execution_count": null,
   "metadata": {},
   "outputs": [],
   "source": []
  }
 ],
 "metadata": {
  "kernelspec": {
   "display_name": "Python 3",
   "language": "python",
   "name": "python3"
  },
  "language_info": {
   "codemirror_mode": {
    "name": "ipython",
    "version": 3
   },
   "file_extension": ".py",
   "mimetype": "text/x-python",
   "name": "python",
   "nbconvert_exporter": "python",
   "pygments_lexer": "ipython3",
   "version": "3.7.3"
  }
 },
 "nbformat": 4,
 "nbformat_minor": 4
}
